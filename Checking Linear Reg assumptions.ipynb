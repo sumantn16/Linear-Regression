{
 "cells": [
  {
   "cell_type": "markdown",
   "metadata": {},
   "source": [
    "## Split data into Training & Test Data and use train data for Model building \n"
   ]
  },
  {
   "cell_type": "markdown",
   "metadata": {},
   "source": [
    "### Example 1"
   ]
  },
  {
   "cell_type": "markdown",
   "metadata": {},
   "source": [
    "Use advertising data to build a model "
   ]
  },
  {
   "cell_type": "code",
   "execution_count": 1,
   "metadata": {},
   "outputs": [],
   "source": [
    "import pandas                    as     pd\n",
    "import numpy                     as     np\n",
    "\n",
    "import seaborn                   as     sns\n",
    "import matplotlib.pyplot         as     plt\n",
    "\n",
    "import scipy.stats               as     stats\n",
    "import statsmodels.api           as     sm\n",
    "import statsmodels.stats.api     as     sms\n",
    "\n",
    "from   statsmodels.compat        import lzip\n",
    "from   sklearn.metrics           import mean_squared_error\n",
    "from   sklearn.preprocessing     import PolynomialFeatures\n",
    "from   sklearn.linear_model      import LinearRegression\n",
    "from   sklearn                   import linear_model\n",
    "from   statsmodels.stats         import diagnostic as diag\n",
    "from   sklearn.model_selection  import train_test_split"
   ]
  },
  {
   "cell_type": "code",
   "execution_count": 2,
   "metadata": {},
   "outputs": [
    {
     "name": "stdout",
     "output_type": "stream",
     "text": [
      "<class 'pandas.core.frame.DataFrame'>\n",
      "RangeIndex: 200 entries, 0 to 199\n",
      "Data columns (total 4 columns):\n",
      "TV           200 non-null float64\n",
      "Radio        200 non-null float64\n",
      "Newspaper    200 non-null float64\n",
      "Sales        200 non-null float64\n",
      "dtypes: float64(4)\n",
      "memory usage: 6.3 KB\n",
      "None\n",
      "               0     1     2      3      4\n",
      "TV         230.1  44.5  17.2  151.5  180.8\n",
      "Radio       37.8  39.3  45.9   41.3   10.8\n",
      "Newspaper   69.2  45.1  69.3   58.5   58.4\n",
      "Sales       22.1  10.4   9.3   18.5   12.9\n",
      "(200, 3)\n",
      "(200,)\n"
     ]
    }
   ],
   "source": [
    "Advertising_df = pd.read_csv('Advertising.csv', names = ['TV','Radio','Newspaper','Sales'], header = 0)\n",
    "print(Advertising_df.info())\n",
    "print(Advertising_df.head().T)\n",
    "\n",
    "X          =   Advertising_df[['TV','Radio','Newspaper']]\n",
    "y          =   Advertising_df['Sales']\n",
    "\n",
    "print(X.shape)                            \n",
    "print(y.shape)                                                           "
   ]
  },
  {
   "cell_type": "markdown",
   "metadata": {},
   "source": [
    "### Assumptions of Linear Regression"
   ]
  },
  {
   "cell_type": "markdown",
   "metadata": {},
   "source": [
    "### 1) Absence of multi-collinearity"
   ]
  },
  {
   "cell_type": "code",
   "execution_count": 3,
   "metadata": {},
   "outputs": [
    {
     "data": {
      "text/plain": [
       "[3.285462100162896, 3.0552445106573844]"
      ]
     },
     "execution_count": 3,
     "metadata": {},
     "output_type": "execute_result"
    }
   ],
   "source": [
    "from statsmodels.stats.outliers_influence import variance_inflation_factor\n",
    "\n",
    "[variance_inflation_factor(X.values, j) for j in range(1,X.shape[1])]"
   ]
  },
  {
   "cell_type": "markdown",
   "metadata": {},
   "source": [
    "### Inference\n",
    "\n",
    "We don't see any variable having VIF more than the threshold of 5. Hence there is no multi-collinearity."
   ]
  },
  {
   "cell_type": "markdown",
   "metadata": {},
   "source": [
    "### Build the model to get residuals"
   ]
  },
  {
   "cell_type": "code",
   "execution_count": 6,
   "metadata": {},
   "outputs": [
    {
     "data": {
      "text/html": [
       "<table class=\"simpletable\">\n",
       "<caption>OLS Regression Results</caption>\n",
       "<tr>\n",
       "  <th>Dep. Variable:</th>          <td>Sales</td>      <th>  R-squared:         </th> <td>   0.897</td>\n",
       "</tr>\n",
       "<tr>\n",
       "  <th>Model:</th>                   <td>OLS</td>       <th>  Adj. R-squared:    </th> <td>   0.896</td>\n",
       "</tr>\n",
       "<tr>\n",
       "  <th>Method:</th>             <td>Least Squares</td>  <th>  F-statistic:       </th> <td>   570.3</td>\n",
       "</tr>\n",
       "<tr>\n",
       "  <th>Date:</th>             <td>Tue, 28 May 2019</td> <th>  Prob (F-statistic):</th> <td>1.58e-96</td>\n",
       "</tr>\n",
       "<tr>\n",
       "  <th>Time:</th>                 <td>14:23:21</td>     <th>  Log-Likelihood:    </th> <td> -386.18</td>\n",
       "</tr>\n",
       "<tr>\n",
       "  <th>No. Observations:</th>      <td>   200</td>      <th>  AIC:               </th> <td>   780.4</td>\n",
       "</tr>\n",
       "<tr>\n",
       "  <th>Df Residuals:</th>          <td>   196</td>      <th>  BIC:               </th> <td>   793.6</td>\n",
       "</tr>\n",
       "<tr>\n",
       "  <th>Df Model:</th>              <td>     3</td>      <th>                     </th>     <td> </td>   \n",
       "</tr>\n",
       "<tr>\n",
       "  <th>Covariance Type:</th>      <td>nonrobust</td>    <th>                     </th>     <td> </td>   \n",
       "</tr>\n",
       "</table>\n",
       "<table class=\"simpletable\">\n",
       "<tr>\n",
       "      <td></td>         <th>coef</th>     <th>std err</th>      <th>t</th>      <th>P>|t|</th>  <th>[0.025</th>    <th>0.975]</th>  \n",
       "</tr>\n",
       "<tr>\n",
       "  <th>const</th>     <td>    2.9389</td> <td>    0.312</td> <td>    9.422</td> <td> 0.000</td> <td>    2.324</td> <td>    3.554</td>\n",
       "</tr>\n",
       "<tr>\n",
       "  <th>TV</th>        <td>    0.0458</td> <td>    0.001</td> <td>   32.809</td> <td> 0.000</td> <td>    0.043</td> <td>    0.049</td>\n",
       "</tr>\n",
       "<tr>\n",
       "  <th>Radio</th>     <td>    0.1885</td> <td>    0.009</td> <td>   21.893</td> <td> 0.000</td> <td>    0.172</td> <td>    0.206</td>\n",
       "</tr>\n",
       "<tr>\n",
       "  <th>Newspaper</th> <td>   -0.0010</td> <td>    0.006</td> <td>   -0.177</td> <td> 0.860</td> <td>   -0.013</td> <td>    0.011</td>\n",
       "</tr>\n",
       "</table>\n",
       "<table class=\"simpletable\">\n",
       "<tr>\n",
       "  <th>Omnibus:</th>       <td>60.414</td> <th>  Durbin-Watson:     </th> <td>   2.084</td>\n",
       "</tr>\n",
       "<tr>\n",
       "  <th>Prob(Omnibus):</th> <td> 0.000</td> <th>  Jarque-Bera (JB):  </th> <td> 151.241</td>\n",
       "</tr>\n",
       "<tr>\n",
       "  <th>Skew:</th>          <td>-1.327</td> <th>  Prob(JB):          </th> <td>1.44e-33</td>\n",
       "</tr>\n",
       "<tr>\n",
       "  <th>Kurtosis:</th>      <td> 6.332</td> <th>  Cond. No.          </th> <td>    454.</td>\n",
       "</tr>\n",
       "</table><br/><br/>Warnings:<br/>[1] Standard Errors assume that the covariance matrix of the errors is correctly specified."
      ],
      "text/plain": [
       "<class 'statsmodels.iolib.summary.Summary'>\n",
       "\"\"\"\n",
       "                            OLS Regression Results                            \n",
       "==============================================================================\n",
       "Dep. Variable:                  Sales   R-squared:                       0.897\n",
       "Model:                            OLS   Adj. R-squared:                  0.896\n",
       "Method:                 Least Squares   F-statistic:                     570.3\n",
       "Date:                Tue, 28 May 2019   Prob (F-statistic):           1.58e-96\n",
       "Time:                        14:23:21   Log-Likelihood:                -386.18\n",
       "No. Observations:                 200   AIC:                             780.4\n",
       "Df Residuals:                     196   BIC:                             793.6\n",
       "Df Model:                           3                                         \n",
       "Covariance Type:            nonrobust                                         \n",
       "==============================================================================\n",
       "                 coef    std err          t      P>|t|      [0.025      0.975]\n",
       "------------------------------------------------------------------------------\n",
       "const          2.9389      0.312      9.422      0.000       2.324       3.554\n",
       "TV             0.0458      0.001     32.809      0.000       0.043       0.049\n",
       "Radio          0.1885      0.009     21.893      0.000       0.172       0.206\n",
       "Newspaper     -0.0010      0.006     -0.177      0.860      -0.013       0.011\n",
       "==============================================================================\n",
       "Omnibus:                       60.414   Durbin-Watson:                   2.084\n",
       "Prob(Omnibus):                  0.000   Jarque-Bera (JB):              151.241\n",
       "Skew:                          -1.327   Prob(JB):                     1.44e-33\n",
       "Kurtosis:                       6.332   Cond. No.                         454.\n",
       "==============================================================================\n",
       "\n",
       "Warnings:\n",
       "[1] Standard Errors assume that the covariance matrix of the errors is correctly specified.\n",
       "\"\"\""
      ]
     },
     "execution_count": 6,
     "metadata": {},
     "output_type": "execute_result"
    }
   ],
   "source": [
    "## Build a model\n",
    "X_1       = sm.add_constant(X) \n",
    "model     = sm.OLS(y, X_1).fit()\n",
    "model.summary()"
   ]
  },
  {
   "cell_type": "code",
   "execution_count": 7,
   "metadata": {},
   "outputs": [
    {
     "name": "stdout",
     "output_type": "stream",
     "text": [
      "<class 'pandas.core.frame.DataFrame'>\n",
      "<class 'pandas.core.series.Series'>\n"
     ]
    }
   ],
   "source": [
    "print(type(X_1))\n",
    "print(type(y))"
   ]
  },
  {
   "cell_type": "markdown",
   "metadata": {},
   "source": [
    "### 2)  Errors between the observed and predicted values should be normally distributed\n",
    "\n",
    "* For regressions, the test of normality applies to model's residuals and not the variables themselves. \n",
    "\n",
    "* We shall inspect the residuals using a probabity plot. Here the residuals will be represented as dots (in blue) should fall on the red line.\n",
    "\n",
    "* We use Shapiro Wilk test  from scipy library to check the normality of residuals.\n",
    "\n",
    "* Null Hypothesis: The residuals are normally distributed.\n",
    "\n",
    "* Alternative Hypothesis: The residuals are not normally distributed."
   ]
  },
  {
   "cell_type": "code",
   "execution_count": 8,
   "metadata": {},
   "outputs": [
    {
     "name": "stdout",
     "output_type": "stream",
     "text": [
      "P value is 0.0000\n"
     ]
    }
   ],
   "source": [
    "shaipro_stat, pval = stats.shapiro(model.resid)\n",
    "print('P value is %1.4f' %pval)"
   ]
  },
  {
   "cell_type": "markdown",
   "metadata": {},
   "source": [
    "### Inference\n",
    "\n",
    "Since the p-value is 0, we decide that at 5% level of significance we reject the null hypotehsis and conclude that the residuals are not normally distributed."
   ]
  },
  {
   "cell_type": "markdown",
   "metadata": {},
   "source": [
    "Let us try transforming variables "
   ]
  },
  {
   "cell_type": "code",
   "execution_count": 9,
   "metadata": {},
   "outputs": [
    {
     "name": "stdout",
     "output_type": "stream",
     "text": [
      "(200, 10)\n",
      "(200, 20)\n"
     ]
    }
   ],
   "source": [
    "degrees = [2,3]\n",
    "\n",
    "for degree in degrees:\n",
    "    poly      = PolynomialFeatures(degree = degree)\n",
    "    X_        = poly.fit_transform(X)\n",
    "    print(X_.shape)\n",
    "\n",
    "    ## Build a model after log transformation\n",
    "    X_c         = sm.add_constant(X_) \n",
    "    model_c     = sm.OLS(y, X_c).fit()\n",
    "    shaipro_stat, pval = stats.shapiro(model_c.resid)\n",
    "    if  pval > 0.05:\n",
    "        print('\\nResiduals are normally distributed for %d degree of polynomial P value %1.4f' %(degree, pval))\n",
    "        print('\\nSince the p-value > 0.05, at 5% level of significance we accept the null hypotehsis')\n",
    "        print('and conclude that the residuals are normally distributed')\n",
    "        model_linear = model_c\n",
    "        break\n",
    "\n"
   ]
  },
  {
   "cell_type": "markdown",
   "metadata": {},
   "source": [
    "#### We shall inspect the residuals using a probabity plot. Here the residuals will be represented as dots (in blue) should fall on the red line."
   ]
  },
  {
   "cell_type": "code",
   "execution_count": 10,
   "metadata": {},
   "outputs": [
    {
     "data": {
      "image/png": "[encoded data removed]",
      "text/plain": [
       "<Figure size 432x288 with 1 Axes>"
      ]
     },
     "metadata": {
      "needs_background": "light"
     },
     "output_type": "display_data"
    }
   ],
   "source": [
    "stats.probplot(model_c.resid, plot= plt)\n",
    "plt.title(\"Model1 Residuals Probability Plot\")\n",
    "plt.show()"
   ]
  },
  {
   "cell_type": "markdown",
   "metadata": {},
   "source": [
    "### Inference\n",
    "\n",
    "This plot indicates that the model’s residuals are normally distributed. "
   ]
  },
  {
   "cell_type": "markdown",
   "metadata": {},
   "source": [
    "### 3) Homoscedasticity"
   ]
  },
  {
   "cell_type": "markdown",
   "metadata": {},
   "source": [
    "Checking heteroscedasticity Using Goldfeld Quandt we test for heteroscedasticity.\n",
    "\n",
    "* Null Hypothesis: Error terms are homoscedastic\n",
    "* Alternative Hypothesis: Error terms are heteroscedastic."
   ]
  },
  {
   "cell_type": "code",
   "execution_count": 11,
   "metadata": {},
   "outputs": [
    {
     "name": "stdout",
     "output_type": "stream",
     "text": [
      "[('F statistic', 1.6923694864230772), ('p-value', 0.009842362143352903)]\n"
     ]
    }
   ],
   "source": [
    "residuals = model_c.resid\n",
    "name = ['F statistic', 'p-value']\n",
    "\n",
    "test = sms.het_goldfeldquandt(residuals, model_c.model.exog)\n",
    "\n",
    "print(lzip(name, test))"
   ]
  },
  {
   "cell_type": "markdown",
   "metadata": {},
   "source": [
    "### Inference\n",
    "\n",
    "Since p-value is 0.94 and > 5%, we accept the null hypothesis and conclude that Error terms are homoscedastic"
   ]
  },
  {
   "cell_type": "markdown",
   "metadata": {},
   "source": [
    "### 4) Checking for autocorrelation \n",
    "\n",
    "To ensure the absence of autocorrelation we use Ljungbox test.\n",
    "\n",
    "* Null Hypothesis: Autocorrelation is absent.\n",
    "* Alternative Hypothesis: Autocorrelation is present.\n"
   ]
  },
  {
   "cell_type": "code",
   "execution_count": 12,
   "metadata": {},
   "outputs": [
    {
     "data": {
      "text/plain": [
       "[('test statistic', 1.6923694864230772), ('p-value', 0.009842362143352903)]"
      ]
     },
     "execution_count": 12,
     "metadata": {},
     "output_type": "execute_result"
    }
   ],
   "source": [
    "name = ['test statistic', 'p-value']\n",
    "diag.acorr_ljungbox(residuals, lags = 1) \n",
    "\n",
    "lzip(name, test)"
   ]
  },
  {
   "cell_type": "markdown",
   "metadata": {},
   "source": [
    "### Inference\n",
    "\n",
    "Since p-value is 0.94 and > 5%, we accept the null hypothesis and can say that autocorrelation is not present."
   ]
  },
  {
   "cell_type": "markdown",
   "metadata": {},
   "source": [
    "### 5) Relationship between the independent and dependent variables to be linear"
   ]
  },
  {
   "cell_type": "markdown",
   "metadata": {},
   "source": [
    "The residual vs fitted values plot is used to check for constant variance and linearity, and to identify potential outliers in the data."
   ]
  },
  {
   "cell_type": "code",
   "execution_count": 13,
   "metadata": {},
   "outputs": [
    {
     "data": {
      "image/png": "[encoded data removed]",
      "text/plain": [
       "<Figure size 432x288 with 1 Axes>"
      ]
     },
     "metadata": {
      "needs_background": "light"
     },
     "output_type": "display_data"
    }
   ],
   "source": [
    "# Plot the residuals after fitting a linear model\n",
    "ax = sns.residplot(y, residuals, lowess = True, color = \"g\")\n",
    "ax.set(xlabel='Fitted Value', ylabel='Residuals', title = 'Residual Vs Fitted values PLOT \\n')\n",
    "plt.show()"
   ]
  },
  {
   "cell_type": "markdown",
   "metadata": {},
   "source": [
    "### Inference\n",
    "\n",
    "The residual plot indicates that the model’s residuals are restricting to mean of zero to a great extent exhibiting linearity."
   ]
  },
  {
   "cell_type": "markdown",
   "metadata": {},
   "source": [
    "### Split the data into train and test datasets\n",
    "\n",
    "* Use the train data to build a model.\n",
    "* Use the test data to evaluate the model performance.\n",
    "* Slit the data into 80:20 ratio to create train and test data\n",
    "* Set a random seed to ensure repeatability of the results"
   ]
  },
  {
   "cell_type": "code",
   "execution_count": 14,
   "metadata": {},
   "outputs": [
    {
     "name": "stdout",
     "output_type": "stream",
     "text": [
      "                     0          1           2            3            4\n",
      "a         2.301000e+02     44.500      17.200      151.500      180.800\n",
      "b         3.780000e+01     39.300      45.900       41.300       10.800\n",
      "c         6.920000e+01     45.100      69.300       58.500       58.400\n",
      "asquare   5.294601e+04   1980.250     295.840    22952.250    32688.640\n",
      "ab        8.697780e+03   1748.850     789.480     6256.950     1952.640\n",
      "ac        1.592292e+04   2006.950    1191.960     8862.750    10558.720\n",
      "bsquare   1.428840e+03   1544.490    2106.810     1705.690      116.640\n",
      "bc        2.615760e+03   1772.430    3180.870     2416.050      630.720\n",
      "csquare   4.788640e+03   2034.010    4802.490     3422.250     3410.560\n",
      "acube     1.218288e+07  88121.125    5088.448  3477265.875  5910106.112\n",
      "asquareb  2.001359e+06  77823.825   13579.056   947927.925   353037.312\n",
      "asquarec  3.663864e+06  89309.275   20501.712  1342706.625  1909016.576\n",
      "bsquarea  3.287761e+05  68729.805   36237.132   258412.035    21088.512\n",
      "abc       6.018864e+05  78873.135   54710.964   366031.575   114034.176\n",
      "csquarea  1.101866e+06  90513.445   82602.828   518470.875   616629.248\n",
      "bcube     5.401015e+04  60698.457   96702.579    70444.997     1259.712\n",
      "bsquarec  9.887573e+04  69656.499  146001.933    99782.865     6811.776\n",
      "csquareb  1.810106e+05  79936.593  220434.291   141338.925    36834.048\n",
      "csube     3.313739e+05  91733.851  332812.557   200201.625   199176.704\n",
      "(200, 19)\n"
     ]
    }
   ],
   "source": [
    "feature_names  = ['1', 'a', 'b', 'c', 'asquare','ab', 'ac', 'bsquare', 'bc', 'csquare','acube', 'asquareb', 'asquarec', \\\n",
    "                 'bsquarea', 'abc','csquarea', 'bcube', 'bsquarec', 'csquareb', 'csube']\n",
    "X_df           = pd.DataFrame(X_, columns = feature_names)\n",
    "X              = X_df[['a', 'b', 'c', 'asquare','ab', 'ac', 'bsquare', 'bc', 'csquare','acube', 'asquareb', 'asquarec', \\\n",
    "                 'bsquarea', 'abc','csquarea', 'bcube', 'bsquarec', 'csquareb', 'csube']]\n",
    "print(X.head().T)\n",
    "print(X.shape)"
   ]
  },
  {
   "cell_type": "code",
   "execution_count": 15,
   "metadata": {},
   "outputs": [],
   "source": [
    "x_train, x_test,  y_train, y_test = train_test_split(X, y, test_size = 0.2, random_state = 100)"
   ]
  },
  {
   "cell_type": "markdown",
   "metadata": {},
   "source": [
    "### Check the shape of train and test data"
   ]
  },
  {
   "cell_type": "code",
   "execution_count": 13,
   "metadata": {},
   "outputs": [
    {
     "data": {
      "text/plain": [
       "[('x_train shape', (160, 3)),\n",
       " ('x_test shape', (40, 3)),\n",
       " ('y_train shape', (160,)),\n",
       " ('y_test shape', (40,))]"
      ]
     },
     "execution_count": 13,
     "metadata": {},
     "output_type": "execute_result"
    }
   ],
   "source": [
    "df_names      = ['x_train shape', 'x_test shape', 'y_train shape', 'y_test shape']\n",
    "shapes        = (x_train.shape, x_test.shape,  y_train.shape, y_test.shape)\n",
    "lzip(df_names,shapes)"
   ]
  },
  {
   "cell_type": "markdown",
   "metadata": {},
   "source": [
    "### Build the model using train data"
   ]
  },
  {
   "cell_type": "code",
   "execution_count": 14,
   "metadata": {},
   "outputs": [
    {
     "name": "stdout",
     "output_type": "stream",
     "text": [
      "(160,) (160, 3)\n",
      "<class 'pandas.core.frame.DataFrame'>\n",
      "<class 'pandas.core.series.Series'>\n"
     ]
    }
   ],
   "source": [
    "print(y_train.shape, x_train.shape)\n",
    "print(type(x_train))\n",
    "print(type(y_train))"
   ]
  },
  {
   "cell_type": "code",
   "execution_count": 15,
   "metadata": {},
   "outputs": [
    {
     "name": "stdout",
     "output_type": "stream",
     "text": [
      "                            OLS Regression Results                            \n",
      "==============================================================================\n",
      "Dep. Variable:                      y   R-squared:                       0.892\n",
      "Model:                            OLS   Adj. R-squared:                  0.889\n",
      "Method:                 Least Squares   F-statistic:                     427.4\n",
      "Date:                Tue, 28 May 2019   Prob (F-statistic):           5.38e-75\n",
      "Time:                        06:50:44   Log-Likelihood:                -316.74\n",
      "No. Observations:                 160   AIC:                             641.5\n",
      "Df Residuals:                     156   BIC:                             653.8\n",
      "Df Model:                           3                                         \n",
      "Covariance Type:            nonrobust                                         \n",
      "==============================================================================\n",
      "                 coef    std err          t      P>|t|      [0.025      0.975]\n",
      "------------------------------------------------------------------------------\n",
      "const          2.8173      0.357      7.881      0.000       2.111       3.523\n",
      "x1             0.0456      0.002     29.444      0.000       0.043       0.049\n",
      "x2             0.1857      0.010     18.012      0.000       0.165       0.206\n",
      "x3             0.0022      0.007      0.325      0.746      -0.011       0.016\n",
      "==============================================================================\n",
      "Omnibus:                       43.762   Durbin-Watson:                   1.911\n",
      "Prob(Omnibus):                  0.000   Jarque-Bera (JB):               91.253\n",
      "Skew:                          -1.220   Prob(JB):                     1.53e-20\n",
      "Kurtosis:                       5.781   Cond. No.                         445.\n",
      "==============================================================================\n",
      "\n",
      "Warnings:\n",
      "[1] Standard Errors assume that the covariance matrix of the errors is correctly specified.\n"
     ]
    }
   ],
   "source": [
    "X_train     = sm.add_constant(x_train) \n",
    "\n",
    "XT          = np.array(X_train)\n",
    "yT          = np.array(y_train)\n",
    "lm          = sm.OLS(yT, XT).fit()\n",
    "\n",
    "print(lm.summary())"
   ]
  },
  {
   "cell_type": "code",
   "execution_count": 16,
   "metadata": {},
   "outputs": [
    {
     "name": "stdout",
     "output_type": "stream",
     "text": [
      "[('Intercept', 2.8172751352949956), ('a', 0.045586396923019176), ('b', 0.18569815745973395), ('c', 0.002232810241018828)]\n"
     ]
    }
   ],
   "source": [
    "array_names = ['Intercept', 'a', 'b', 'c', 'asquare','ab', 'ac', 'bsquare', 'bc', 'csquare','acube', 'asquareb', 'asquarec', \n",
    "                 'bsquarea', 'abc','csquarea', 'bcube', 'bsquarec', 'csquareb', 'csube']\n",
    "\n",
    "print(lzip(array_names, lm.params))"
   ]
  },
  {
   "cell_type": "markdown",
   "metadata": {},
   "source": [
    "We have the following predictor variables named as a, b and c:\n",
    "* a = TV\n",
    "* b = Radio\n",
    "* c = Newspaper\n",
    "\n",
    "The regression equation is given by:\n",
    "\n",
    "Sales = 3.86577 + 0.09269 * TV + 0.03462 * Radio + 0.01597 * Newspaper -0.000466 * $TV^2$ + 0.0015105 * TV X Radio - 0.0002586 * TV X Newspaper - 9.39196 * $Radio^2$ - 0.0007483 X Radio X Newspaper + 0.0002933 * $Newspaper^2$  + 0.000000081533 * $TV^3$ - 0.0000016885 * $TV^2$ X Radio - 0.00000100052 * $TV^2$ X Newspaper - 0.0000023998 * $Radio^2$ X TV - 0.00000198309 * $TV$ * $Radio$ * $Newspaper$ - 0.000000332817 * $Newspaper^2$ * TV - 0.00000907886 * $Radio^3$ + 0.0000097386 * $Radio^2$ * Newspaper + 0.0000052069 * $Newspaper^2$ X Radio - 0.000003027 * $Newspaper^3$ "
   ]
  },
  {
   "cell_type": "markdown",
   "metadata": {},
   "source": [
    "Rsquare is 0.992 and Adj. R-squared is 0.991."
   ]
  },
  {
   "cell_type": "code",
   "execution_count": 17,
   "metadata": {},
   "outputs": [
    {
     "data": {
      "text/plain": [
       "LinearRegression(copy_X=True, fit_intercept=True, n_jobs=1, normalize=False)"
      ]
     },
     "execution_count": 17,
     "metadata": {},
     "output_type": "execute_result"
    }
   ],
   "source": [
    "from sklearn.linear_model import LinearRegression\n",
    "\n",
    "from sklearn.metrics import mean_squared_error\n",
    "\n",
    "lin_model = LinearRegression()\n",
    "\n",
    "lin_model.fit(x_train, y_train)"
   ]
  },
  {
   "cell_type": "markdown",
   "metadata": {},
   "source": [
    "### Model evaluation\n",
    "\n",
    "We will evaluate our model using RMSE and R2-score."
   ]
  },
  {
   "cell_type": "markdown",
   "metadata": {},
   "source": [
    "### Prediction Accuracy\n",
    "\n",
    "Prediction error or residuals is the difference between the predicted target variable values and the actual target variable vaues.\n",
    "\n",
    "Most popular measure to evaluate the model performance is Root Mean Square Error (RMSE) which is the arithmatic mean of the sum of the residuals.\n",
    "\n",
    "The model with low RMSE is the best model among many other models."
   ]
  },
  {
   "cell_type": "code",
   "execution_count": 18,
   "metadata": {},
   "outputs": [
    {
     "name": "stdout",
     "output_type": "stream",
     "text": [
      "The model performance for training set\n",
      "--------------------------------------\n",
      "RMSE is 1.7518885936753472\n",
      "R square is 0.892\n",
      "\n",
      "\n",
      "The model performance for testing set\n",
      "--------------------------------------\n",
      "RMSE is 1.3165457764851072\n",
      "R square is 0.918\n"
     ]
    }
   ],
   "source": [
    "# model evaluation for training set\n",
    "\n",
    "y_train_predict = lin_model.predict(x_train)\n",
    "\n",
    "rmse = (np.sqrt(mean_squared_error(y_train, y_train_predict)))\n",
    "\n",
    "print(\"The model performance for training set\")\n",
    "\n",
    "print(\"--------------------------------------\")\n",
    "\n",
    "print('RMSE is {}'.format(rmse))\n",
    "\n",
    "print('R square is %1.3f' %lin_model.score(x_train, y_train))\n",
    "\n",
    "#print('R2 score is {}'.format(r2))\n",
    "\n",
    "print(\"\\n\")\n",
    "\n",
    "# model evaluation for testing set\n",
    "\n",
    "y_test_predict = lin_model.predict(x_test)\n",
    "\n",
    "rmse = (np.sqrt(mean_squared_error(y_test, y_test_predict)))\n",
    "\n",
    "print(\"The model performance for testing set\")\n",
    "\n",
    "print(\"--------------------------------------\")\n",
    "\n",
    "print('RMSE is {}'.format(rmse))\n",
    "\n",
    "print('R square is %1.3f' %lin_model.score(x_test, y_test))"
   ]
  },
  {
   "cell_type": "markdown",
   "metadata": {},
   "source": [
    "###  In class lab :  Practice exercise 1 "
   ]
  },
  {
   "cell_type": "markdown",
   "metadata": {},
   "source": [
    "Use the red wine data and predict the target variable, wine quality using the predictor variables (1 to 11). \n",
    "\n",
    "* Split data into Training & Test Data and use train data for Model building. \n",
    "* Test the assumptions of normality.\n",
    "* Evaluate model performance by finding RMSE.\n",
    "* Interpret the coefficients and write the significant variables."
   ]
  },
  {
   "cell_type": "code",
   "execution_count": 24,
   "metadata": {},
   "outputs": [
    {
     "name": "stdout",
     "output_type": "stream",
     "text": [
      "<class 'pandas.core.frame.DataFrame'>\n",
      "RangeIndex: 1599 entries, 0 to 1598\n",
      "Data columns (total 12 columns):\n",
      "fixed acidity           1599 non-null float64\n",
      "volatile acidity        1599 non-null float64\n",
      "citric acid             1599 non-null float64\n",
      "residual sugar          1599 non-null float64\n",
      "chlorides               1599 non-null float64\n",
      "free sulfur dioxide     1599 non-null float64\n",
      "total sulfur dioxide    1599 non-null float64\n",
      "density                 1599 non-null float64\n",
      "pH                      1599 non-null float64\n",
      "sulphates               1599 non-null float64\n",
      "alcohol                 1599 non-null float64\n",
      "quality                 1599 non-null int64\n",
      "dtypes: float64(11), int64(1)\n",
      "memory usage: 150.0 KB\n",
      "None\n",
      "(1599, 12)\n",
      "                            0        1       2       3        4\n",
      "fixed acidity          7.4000   7.8000   7.800  11.200   7.4000\n",
      "volatile acidity       0.7000   0.8800   0.760   0.280   0.7000\n",
      "citric acid            0.0000   0.0000   0.040   0.560   0.0000\n",
      "residual sugar         1.9000   2.6000   2.300   1.900   1.9000\n",
      "chlorides              0.0760   0.0980   0.092   0.075   0.0760\n",
      "free sulfur dioxide   11.0000  25.0000  15.000  17.000  11.0000\n",
      "total sulfur dioxide  34.0000  67.0000  54.000  60.000  34.0000\n",
      "density                0.9978   0.9968   0.997   0.998   0.9978\n",
      "pH                     3.5100   3.2000   3.260   3.160   3.5100\n",
      "sulphates              0.5600   0.6800   0.650   0.580   0.5600\n",
      "alcohol                9.4000   9.8000   9.800   9.800   9.4000\n",
      "quality                5.0000   5.0000   5.000   6.000   5.0000\n"
     ]
    }
   ],
   "source": [
    "import pandas as pd\n",
    "wine_data   = pd.read_csv('winequality-red.csv', header = 0, sep = ';')\n",
    "print(wine_data.info())\n",
    "print(wine_data.shape)\n",
    "print(wine_data.head(5).T)"
   ]
  },
  {
   "cell_type": "markdown",
   "metadata": {},
   "source": [
    "## Simple Logistic Regression"
   ]
  },
  {
   "cell_type": "markdown",
   "metadata": {},
   "source": [
    "** Logistic regression models** are used to analyze the relationships between a target or dependent variable (DV) and explanatory or independent variables (IV) when the the dependent variable is binary or dichotomous. "
   ]
  },
  {
   "cell_type": "markdown",
   "metadata": {},
   "source": [
    "### Example 2\n",
    "\n",
    "#### Toxicity Dataset example \n",
    "\n",
    "\n",
    "An experiment is done to test the effect of a toxic substance on insects. The data originate from the textbook, Applied Linear Statistical Models by Kutner, Nachtsheim, Neter, & Li."
   ]
  },
  {
   "cell_type": "markdown",
   "metadata": {},
   "source": [
    "At each of six dose levels, 250 insects are exposed to the substance and the number of insects that die is counted . We can use python to calculate the observed probabilities as the number of observed deaths out of 250 for each dose level."
   ]
  },
  {
   "cell_type": "code",
   "execution_count": 25,
   "metadata": {},
   "outputs": [],
   "source": [
    "import pandas               as     pd\n",
    "import numpy                as     np\n",
    "\n",
    "from   sklearn.linear_model import LogisticRegression"
   ]
  },
  {
   "cell_type": "code",
   "execution_count": 26,
   "metadata": {},
   "outputs": [],
   "source": [
    "toxicity_df = pd.DataFrame({'Dose':[1,2,3,4,5,6] , 'Size': [250, 250, 250, 250, 250, 250], 'Deaths':[28,53,93,126,172,197]})"
   ]
  },
  {
   "cell_type": "code",
   "execution_count": 27,
   "metadata": {},
   "outputs": [
    {
     "name": "stdout",
     "output_type": "stream",
     "text": [
      "   Dose  Size  Deaths\n",
      "0     1   250      28\n",
      "1     2   250      53\n",
      "2     3   250      93\n",
      "3     4   250     126\n",
      "4     5   250     172\n",
      "5     6   250     197\n"
     ]
    }
   ],
   "source": [
    "print(toxicity_df)"
   ]
  },
  {
   "cell_type": "code",
   "execution_count": 28,
   "metadata": {},
   "outputs": [],
   "source": [
    "import array as arr\n",
    "\n",
    "Dose_L = [28, 53, 93, 126, 172, 197]\n",
    "\n",
    "Death_df = pd.DataFrame()\n",
    "\n",
    "for i in range(6):\n",
    "    \n",
    "    m = Dose_L[i]\n",
    "    n = 250 - m\n",
    "    Zeros = np.zeros(m).astype(int)\n",
    "    Ones  = np.ones(n).astype(int)\n",
    "    \n",
    "    Death_N = list(arr.array('I', Zeros))\n",
    "    Death_Y = list(arr.array('I', Ones))\n",
    "\n",
    "    Death_L = Death_N + Death_Y\n",
    "    Death_D = {'Dose' : list(np.repeat(i+1,250)), 'Death': Death_L}\n",
    "   \n",
    "    Death_Dict = Death_D\n",
    "    df            = pd.DataFrame(Death_Dict)\n",
    "    Death_df      = Death_df.append(df)"
   ]
  },
  {
   "cell_type": "code",
   "execution_count": 29,
   "metadata": {},
   "outputs": [
    {
     "name": "stdout",
     "output_type": "stream",
     "text": [
      "\n",
      "Data Frame \n",
      "<class 'pandas.core.frame.DataFrame'>\n",
      "Int64Index: 1500 entries, 0 to 249\n",
      "Data columns (total 2 columns):\n",
      "Dose     1500 non-null int64\n",
      "Death    1500 non-null int64\n",
      "dtypes: int64(2)\n",
      "memory usage: 35.2 KB\n",
      "None\n",
      "   Dose  Death\n",
      "0     1      0\n",
      "1     1      0\n"
     ]
    }
   ],
   "source": [
    "toxicity_data = Death_df\n",
    "print(\"\\nData Frame \")\n",
    "print(toxicity_data.info())\n",
    "print(toxicity_data.head(2))\n",
    "X = toxicity_data['Dose']\n",
    "y = toxicity_data['Death'].astype('category')"
   ]
  },
  {
   "cell_type": "code",
   "execution_count": 30,
   "metadata": {},
   "outputs": [
    {
     "name": "stdout",
     "output_type": "stream",
     "text": [
      "Optimization terminated successfully.\n",
      "         Current function value: 0.559614\n",
      "         Iterations 6\n",
      "                           Logit Regression Results                           \n",
      "==============================================================================\n",
      "Dep. Variable:                  Death   No. Observations:                 1500\n",
      "Model:                          Logit   Df Residuals:                     1494\n",
      "Method:                           MLE   Df Model:                            5\n",
      "Date:                Wed, 30 Jan 2019   Pseudo R-squ.:                  0.1858\n",
      "Time:                        15:37:17   Log-Likelihood:                -839.42\n",
      "converged:                       True   LL-Null:                       -1031.0\n",
      "                                        LLR p-value:                 1.320e-80\n",
      "================================================================================\n",
      "                   coef    std err          z      P>|z|      [0.025      0.975]\n",
      "--------------------------------------------------------------------------------\n",
      "Intercept        2.0705      0.201     10.324      0.000       1.677       2.464\n",
      "C(Dose)[T.2]    -0.7576      0.253     -2.991      0.003      -1.254      -0.261\n",
      "C(Dose)[T.3]    -1.5468      0.239     -6.460      0.000      -2.016      -1.077\n",
      "C(Dose)[T.4]    -2.0865      0.237     -8.800      0.000      -2.551      -1.622\n",
      "C(Dose)[T.5]    -2.8613      0.243    -11.794      0.000      -3.337      -2.386\n",
      "C(Dose)[T.6]    -3.3834      0.253    -13.357      0.000      -3.880      -2.887\n",
      "================================================================================\n"
     ]
    }
   ],
   "source": [
    "import statsmodels.formula.api as smf\n",
    "model= smf.logit(formula=\"Death ~ C(Dose)\", data= toxicity_data).fit()\n",
    "lg   = model.summary()\n",
    "print(lg)"
   ]
  },
  {
   "cell_type": "markdown",
   "metadata": {},
   "source": [
    "###  Log odds, odds ratio and success probability"
   ]
  },
  {
   "cell_type": "code",
   "execution_count": 31,
   "metadata": {},
   "outputs": [
    {
     "data": {
      "text/html": [
       "<div>\n",
       "<style scoped>\n",
       "    .dataframe tbody tr th:only-of-type {\n",
       "        vertical-align: middle;\n",
       "    }\n",
       "\n",
       "    .dataframe tbody tr th {\n",
       "        vertical-align: top;\n",
       "    }\n",
       "\n",
       "    .dataframe thead th {\n",
       "        text-align: right;\n",
       "    }\n",
       "</style>\n",
       "<table border=\"1\" class=\"dataframe\">\n",
       "  <thead>\n",
       "    <tr style=\"text-align: right;\">\n",
       "      <th></th>\n",
       "      <th>OR</th>\n",
       "      <th>z-value</th>\n",
       "      <th>2.5%</th>\n",
       "      <th>97.5%</th>\n",
       "    </tr>\n",
       "  </thead>\n",
       "  <tbody>\n",
       "    <tr>\n",
       "      <th>Intercept</th>\n",
       "      <td>7.928571</td>\n",
       "      <td>5.479202e-25</td>\n",
       "      <td>5.351674</td>\n",
       "      <td>11.746276</td>\n",
       "    </tr>\n",
       "    <tr>\n",
       "      <th>C(Dose)[T.2]</th>\n",
       "      <td>0.468808</td>\n",
       "      <td>2.783203e-03</td>\n",
       "      <td>0.285353</td>\n",
       "      <td>0.770208</td>\n",
       "    </tr>\n",
       "    <tr>\n",
       "      <th>C(Dose)[T.3]</th>\n",
       "      <td>0.212923</td>\n",
       "      <td>1.049417e-10</td>\n",
       "      <td>0.133166</td>\n",
       "      <td>0.340448</td>\n",
       "    </tr>\n",
       "    <tr>\n",
       "      <th>C(Dose)[T.4]</th>\n",
       "      <td>0.124124</td>\n",
       "      <td>1.371763e-18</td>\n",
       "      <td>0.077988</td>\n",
       "      <td>0.197552</td>\n",
       "    </tr>\n",
       "    <tr>\n",
       "      <th>C(Dose)[T.5]</th>\n",
       "      <td>0.057197</td>\n",
       "      <td>4.177022e-32</td>\n",
       "      <td>0.035553</td>\n",
       "      <td>0.092017</td>\n",
       "    </tr>\n",
       "    <tr>\n",
       "      <th>C(Dose)[T.6]</th>\n",
       "      <td>0.033932</td>\n",
       "      <td>1.077957e-40</td>\n",
       "      <td>0.020654</td>\n",
       "      <td>0.055748</td>\n",
       "    </tr>\n",
       "  </tbody>\n",
       "</table>\n",
       "</div>"
      ],
      "text/plain": [
       "                    OR       z-value      2.5%      97.5%\n",
       "Intercept     7.928571  5.479202e-25  5.351674  11.746276\n",
       "C(Dose)[T.2]  0.468808  2.783203e-03  0.285353   0.770208\n",
       "C(Dose)[T.3]  0.212923  1.049417e-10  0.133166   0.340448\n",
       "C(Dose)[T.4]  0.124124  1.371763e-18  0.077988   0.197552\n",
       "C(Dose)[T.5]  0.057197  4.177022e-32  0.035553   0.092017\n",
       "C(Dose)[T.6]  0.033932  1.077957e-40  0.020654   0.055748"
      ]
     },
     "execution_count": 31,
     "metadata": {},
     "output_type": "execute_result"
    }
   ],
   "source": [
    "model_odds = pd.DataFrame(np.exp(model.params), columns= ['OR'])\n",
    "model_odds['z-value']= model.pvalues\n",
    "model_odds[['2.5%', '97.5%']] = np.exp(model.conf_int())\n",
    "model_odds"
   ]
  },
  {
   "cell_type": "markdown",
   "metadata": {},
   "source": [
    "### Interpretation\n",
    "\n",
    "* We observe the McFadden $R^2$ to be 18.58%. The model fit is fair.\n",
    "\n",
    "####  Rule of thumb: Values from 0.2-0.4 indicate (in McFadden's words) excellent model fit. \n",
    "\n",
    "* The overall model is significant indicated by a LLR p-value < 0.05, which allows us to look at the rest of the results. \n",
    "* All the explanatory variables are having significant effect on the log odds of the target variable as indicated by the z values < 0.05.\n",
    "\n",
    "**Calculation of  McFadden $R^2$:**\n",
    "\n",
    "For each of the two categories of the dependent variable, calculate the mean of the predicted probabilities of an event. Then, take the difference between those two means."
   ]
  },
  {
   "cell_type": "markdown",
   "metadata": {},
   "source": [
    "### Interpretation of Log Odds \n",
    "\n",
    "###  Since exposure to the toxic subtance at dosage level 1 was dropped from the analysis, it is the comparison group and plays an important role in interpreting the other categories. \n",
    "\n",
    "* If insects are exposed to the toxic subtance at dosage level 2, there is a -0.757561 (decrease) in the log odds that they die when compared to exposure to the toxic subtance at dosage level 1\n",
    "\n",
    "* If insects are exposed to the toxic subtance at dosage level 3, there is a -1.546827 (decrease) in the log odds that they die when compared to exposure to the toxic subtance at dosage level 1\n",
    "\n",
    "* If insects are exposed to the toxic subtance at dosage level 4, there is a -2.086473 (decrease) in the log odds that they die when compared to exposure to the toxic subtance at dosage level 1\n",
    "\n",
    "* If insects are exposed to the toxic subtance at dosage level 5, there is a  -2.861259 (decrease) in the log odds that they die when compared to exposure to the toxic subtance at dosage level 1\n",
    "\n",
    "* If insects are exposed to the toxic subtance at dosage level 6, there is a  -3.3834 (decrease) in the log odds that they die when compared to exposure to the toxic subtance at dosage level 1"
   ]
  },
  {
   "cell_type": "markdown",
   "metadata": {},
   "source": [
    "### Interpretation of Odds ratio\n",
    "\n",
    "#### Holding all other variables constant:\n",
    "\n",
    "* Insects that die with exposure to the toxic subtance at dosage level 2 is 0.47 times that of exposure to the toxic subtance at dosage level 1\n",
    "    \n",
    "* Insects that die with exposure to the toxic subtance at dosage level 3 is 0.21 times that of exposure to the toxic subtance at dosage level 1\n",
    "\n",
    "* Insects that die with exposure to the toxic subtance at dosage level 4 is 0.12 times that of exposure to the toxic subtance at dosage level 1\n",
    "\n",
    "* Insects that die with exposure to the toxic subtance at dosage level 5 is 0.06 times that of exposure to the toxic subtance at dosage level 1\n",
    "\n",
    "* Insects that die with exposure to the toxic subtance at dosage level 6 is 0.03 times that of exposure to the toxic subtance at dosage level 1\n",
    "\n",
    "When interpreting odd ratios, any value greater than 1 indicates an increase in the odds, i.e. an increase in the likely hood, of that group being in the outcome variable, and any value less than 1 indicates a decrease in the odds, i.e. an decrease in the likely hood."
   ]
  },
  {
   "cell_type": "markdown",
   "metadata": {},
   "source": [
    "###   In class lab : Practice Exercise 2"
   ]
  },
  {
   "cell_type": "markdown",
   "metadata": {},
   "source": [
    "Predict if a given loan will be defaulted (bad_flag = 1) or not based on 14 other features.\n",
    "\n",
    "| Sl No | Variable | Data Type | Remarks |\n",
    "| ---- | ---------- | ------------ | ---------------------- |\n",
    "| 1 | bad_flag | Categorical | 1 Default 0 No default | \n",
    "| 2 | tenure | Integer | Tenure of loan in months | \n",
    "| 3 | margin_amount | Integer | Margin amount to paid by the customer to avail the loan | \n",
    "| 4 | financed_amount | Integer | Amount Financed to the customer towards the loan | \n",
    "| 5 | exist | Categorical | 1 Existing customer 0 New customer | \n",
    "| 6 | cibil score | Integer | CIBIL score of the customer | \n",
    "| 7 | concurrent_loans | Integer | Number of concurrent loans at the time of availing this loan |\n",
    "| 8 | total_income | Integer | Total income of the customer |\n",
    "| 9 | is_rented | Categorical | 1 Rented 0 OWn accommodation | \n",
    "| 10 | Gender | Categorical | 1 Male 0 Female | \n",
    "| 11 | is_married | Categorical | 1 Married 0 Not Married | \n",
    "| 12 | is_selfemployed | Categorical | 1 Self Employed 0 Not self employed | \n",
    "| 13 | age | Integer | Age of the customer | \n",
    "| 14 | monthly_expenses | Integer | Monthly expenses incurred by the customer |\n",
    "| 15 | bank_savings | Integer | Bank savings of the customer |\n",
    "\n",
    "\n",
    "\n",
    "\n",
    "Find the Log odds, odds ratio and success probability and interpret."
   ]
  },
  {
   "cell_type": "code",
   "execution_count": 33,
   "metadata": {},
   "outputs": [
    {
     "name": "stdout",
     "output_type": "stream",
     "text": [
      "<class 'pandas.core.frame.DataFrame'>\n",
      "RangeIndex: 24783 entries, 0 to 24782\n",
      "Data columns (total 15 columns):\n",
      "bad_flag            24783 non-null int64\n",
      "tenure              24783 non-null int64\n",
      "margin_amount       24783 non-null int64\n",
      "financed_amount     24783 non-null int64\n",
      "exist               24783 non-null int64\n",
      "cibil score         24783 non-null int64\n",
      "concurrent_loans    24783 non-null int64\n",
      "total_income        24783 non-null int64\n",
      "is_rented           24783 non-null int64\n",
      "Gender              24783 non-null int64\n",
      "is_married          24783 non-null int64\n",
      "is_selfemployed     24783 non-null int64\n",
      "age                 24783 non-null int64\n",
      "monthly_expenses    24783 non-null int64\n",
      "bank_savings        24783 non-null int64\n",
      "dtypes: int64(15)\n",
      "memory usage: 2.8 MB\n",
      "None\n",
      "                       0        1        2        3        4\n",
      "bad_flag               0        0        0        0        0\n",
      "tenure                36       36       47       23       40\n",
      "margin_amount        140     5079     1147     2741      811\n",
      "financed_amount    82861   184262   131478   154791   209862\n",
      "exist                  0        1        1        0        0\n",
      "cibil score          731      698      709      704      689\n",
      "concurrent_loans       0        3        1        2        3\n",
      "total_income      994327  1842622  1314784  1547906  2518338\n",
      "is_rented              0        0        0        0        1\n",
      "Gender                 0        1        0        1        1\n",
      "is_married             1        1        0        1        1\n",
      "is_selfemployed        0        0        0        0        1\n",
      "age                   28       41       53       45       46\n",
      "monthly_expenses   41430    92131    32870    77395    83945\n",
      "bank_savings      298298   368524   525913   309581   755501\n"
     ]
    }
   ],
   "source": [
    "import pandas as pd\n",
    "\n",
    "loan_data    =    pd.read_csv('./data/data/Loan_Default_Final.csv')\n",
    "print(loan_data.info())\n",
    "print(loan_data.head().T)"
   ]
  },
  {
   "cell_type": "code",
   "execution_count": 34,
   "metadata": {},
   "outputs": [
    {
     "name": "stdout",
     "output_type": "stream",
     "text": [
      "<class 'pandas.core.frame.DataFrame'>\n",
      "RangeIndex: 24783 entries, 0 to 24782\n",
      "Data columns (total 15 columns):\n",
      "bad_flag            24783 non-null category\n",
      "tenure              24783 non-null int64\n",
      "margin_amount       24783 non-null int64\n",
      "financed_amount     24783 non-null int64\n",
      "exist               24783 non-null category\n",
      "cibil score         24783 non-null int64\n",
      "concurrent_loans    24783 non-null int64\n",
      "total_income        24783 non-null int64\n",
      "is_rented           24783 non-null category\n",
      "Gender              24783 non-null category\n",
      "is_married          24783 non-null category\n",
      "is_selfemployed     24783 non-null category\n",
      "age                 24783 non-null int64\n",
      "monthly_expenses    24783 non-null int64\n",
      "bank_savings        24783 non-null int64\n",
      "dtypes: category(6), int64(9)\n",
      "memory usage: 1.8 MB\n",
      "None\n"
     ]
    }
   ],
   "source": [
    "loan_data['bad_flag']        = loan_data['bad_flag'].astype('category')\n",
    "loan_data['exist']           = loan_data['exist'].astype('category')\n",
    "loan_data['is_rented']       = loan_data['is_rented'].astype('category')\n",
    "loan_data['Gender']          = loan_data['Gender'].astype('category')\n",
    "loan_data['is_married']      = loan_data['is_married'].astype('category')\n",
    "loan_data['is_selfemployed'] = loan_data['is_selfemployed'].astype('category')\n",
    "\n",
    "print(loan_data.info())"
   ]
  },
  {
   "cell_type": "markdown",
   "metadata": {},
   "source": [
    "### Take home exercises"
   ]
  },
  {
   "cell_type": "code",
   "execution_count": 35,
   "metadata": {},
   "outputs": [],
   "source": [
    "### Exercise 1"
   ]
  },
  {
   "cell_type": "markdown",
   "metadata": {},
   "source": [
    "Use Carseats data to predict Sales.\n",
    "\n",
    "* Split data into Training & Test Data and use train data for Model building. \n",
    "* Test the assumptions of normality.\n",
    "* Evaluate model performance by finding RMSE.\n",
    "* Interpret the coefficients and write the significant variables."
   ]
  },
  {
   "cell_type": "markdown",
   "metadata": {},
   "source": [
    "#### About data\n",
    "\n",
    "A data frame with 400 observations on the following 11 variables. \n",
    "\n",
    "| Sl No | Variable | Description |\n",
    "| ---- | ------------ | -------------------------------------------------- |\n",
    "| 1 | Sales | Unit sales (in thousands) at each location | \n",
    "| 2 | CompPrice | Price charged by competitor at each location | \n",
    "| 3 | Income | Community income level (in thousands of dollars) | \n",
    "| 4 | Advertising | Local advertising budget for company at each location (in thousands of dollars) | \n",
    "| 5 | Population | Population size in region (in thousands) | \n",
    "| 6 | Price | Price company charges for car seats at each site | \n",
    "| 7 | ShelveLoc | A factor with levels Bad, Good and Medium indicating the quality of the shelving location for the car seats at each site | \n",
    "| 8 | Age | Average age of the local population | \n",
    "| 9 | Education | Education level at each location | \n",
    "| 10 | Urban | A factor with levels No and Yes to indicate whether the store is in an urban or rural location | \n",
    "| 11 | US | A factor with levels No and Yes to indicate whether the store is in the US or not | \n"
   ]
  },
  {
   "cell_type": "code",
   "execution_count": 37,
   "metadata": {},
   "outputs": [
    {
     "name": "stdout",
     "output_type": "stream",
     "text": [
      "   Sales  CompPrice  Income  Advertising  Population  Price ShelveLoc  Age  \\\n",
      "0   9.50        138      73           11         276    120       Bad   42   \n",
      "1  11.22        111      48           16         260     83      Good   65   \n",
      "2  10.06        113      35           10         269     80    Medium   59   \n",
      "3   7.40        117     100            4         466     97    Medium   55   \n",
      "4   4.15        141      64            3         340    128       Bad   38   \n",
      "\n",
      "   Education Urban   US  \n",
      "0         17   Yes  Yes  \n",
      "1         10   Yes  Yes  \n",
      "2         12   Yes  Yes  \n",
      "3         14   Yes  Yes  \n",
      "4         13   Yes   No  \n",
      "<class 'pandas.core.frame.DataFrame'>\n",
      "RangeIndex: 400 entries, 0 to 399\n",
      "Data columns (total 11 columns):\n",
      "Sales          400 non-null float64\n",
      "CompPrice      400 non-null int64\n",
      "Income         400 non-null int64\n",
      "Advertising    400 non-null int64\n",
      "Population     400 non-null int64\n",
      "Price          400 non-null int64\n",
      "ShelveLoc      400 non-null object\n",
      "Age            400 non-null int64\n",
      "Education      400 non-null int64\n",
      "Urban          400 non-null object\n",
      "US             400 non-null object\n",
      "dtypes: float64(1), int64(7), object(3)\n",
      "memory usage: 34.5+ KB\n",
      "None\n"
     ]
    }
   ],
   "source": [
    "import pandas as pd\n",
    "\n",
    "data = pd.read_csv('./data/data/Carseats.csv')\n",
    "print(data.head())\n",
    "print(data.info())"
   ]
  },
  {
   "cell_type": "markdown",
   "metadata": {},
   "source": [
    "### Exercise 2"
   ]
  },
  {
   "cell_type": "markdown",
   "metadata": {},
   "source": [
    "### Predict if a given specimen (row in dataset) is benign or malignant, based on 30 other cell features.\n",
    "\n",
    "The objective is to identify each of a number of benign or malignant classes.\n",
    "\n",
    "Use the Breast Cancer Wisconsin (Diagnostic) Database which is available in sklearn.datasets.\n",
    "\n",
    "* Find the McFadden R square and interpret\n",
    "* How many variables are significant in predicting the target variable?\n",
    "* Find the log odds, odds ratio and interpret."
   ]
  },
  {
   "cell_type": "code",
   "execution_count": 38,
   "metadata": {},
   "outputs": [
    {
     "name": "stdout",
     "output_type": "stream",
     "text": [
      ".. _breast_cancer_dataset:\n",
      "\n",
      "Breast cancer wisconsin (diagnostic) dataset\n",
      "--------------------------------------------\n",
      "\n",
      "**Data Set Characteristics:**\n",
      "\n",
      "    :Number of Instances: 569\n",
      "\n",
      "    :Number of Attributes: 30 numeric, predictive attributes and the class\n",
      "\n",
      "    :Attribute Information:\n",
      "        - radius (mean of distances from center to points on the perimeter)\n",
      "        - texture (standard deviation of gray-scale values)\n",
      "        - perimeter\n",
      "        - area\n",
      "        - smoothness (local variation in radius lengths)\n",
      "        - compactness (perimeter^2 / area - 1.0)\n",
      "        - concavity (severity of concave portions of the contour)\n",
      "        - concave points (number of concave portions of the contour)\n",
      "        - symmetry \n",
      "        - fractal dimension (\"coastline approximation\" - 1)\n",
      "\n",
      "        The mean, standard error, and \"worst\" or largest (mean of the three\n",
      "        largest values) of these features were computed for each image,\n",
      "        resulting in 30 features.  For instance, field 3 is Mean Radius, field\n",
      "        13 is Radius SE, field 23 is Worst Radius.\n",
      "\n",
      "        - class:\n",
      "                - WDBC-Malignant\n",
      "                - WDBC-Benign\n",
      "\n",
      "    :Summary Statistics:\n",
      "\n",
      "    ===================================== ====== ======\n",
      "                                           Min    Max\n",
      "    ===================================== ====== ======\n",
      "    radius (mean):                        6.981  28.11\n",
      "    texture (mean):                       9.71   39.28\n",
      "    perimeter (mean):                     43.79  188.5\n",
      "    area (mean):                          143.5  2501.0\n",
      "    smoothness (mean):                    0.053  0.163\n",
      "    compactness (mean):                   0.019  0.345\n",
      "    concavity (mean):                     0.0    0.427\n",
      "    concave points (mean):                0.0    0.201\n",
      "    symmetry (mean):                      0.106  0.304\n",
      "    fractal dimension (mean):             0.05   0.097\n",
      "    radius (standard error):              0.112  2.873\n",
      "    texture (standard error):             0.36   4.885\n",
      "    perimeter (standard error):           0.757  21.98\n",
      "    area (standard error):                6.802  542.2\n",
      "    smoothness (standard error):          0.002  0.031\n",
      "    compactness (standard error):         0.002  0.135\n",
      "    concavity (standard error):           0.0    0.396\n",
      "    concave points (standard error):      0.0    0.053\n",
      "    symmetry (standard error):            0.008  0.079\n",
      "    fractal dimension (standard error):   0.001  0.03\n",
      "    radius (worst):                       7.93   36.04\n",
      "    texture (worst):                      12.02  49.54\n",
      "    perimeter (worst):                    50.41  251.2\n",
      "    area (worst):                         185.2  4254.0\n",
      "    smoothness (worst):                   0.071  0.223\n",
      "    compactness (worst):                  0.027  1.058\n",
      "    concavity (worst):                    0.0    1.252\n",
      "    concave points (worst):               0.0    0.291\n",
      "    symmetry (worst):                     0.156  0.664\n",
      "    fractal dimension (worst):            0.055  0.208\n",
      "    ===================================== ====== ======\n",
      "\n",
      "    :Missing Attribute Values: None\n",
      "\n",
      "    :Class Distribution: 212 - Malignant, 357 - Benign\n",
      "\n",
      "    :Creator:  Dr. William H. Wolberg, W. Nick Street, Olvi L. Mangasarian\n",
      "\n",
      "    :Donor: Nick Street\n",
      "\n",
      "    :Date: November, 1995\n",
      "\n",
      "This is a copy of UCI ML Breast Cancer Wisconsin (Diagnostic) datasets.\n",
      "https://goo.gl/U2Uwz2\n",
      "\n",
      "Features are computed from a digitized image of a fine needle\n",
      "aspirate (FNA) of a breast mass.  They describe\n",
      "characteristics of the cell nuclei present in the image.\n",
      "\n",
      "Separating plane described above was obtained using\n",
      "Multisurface Method-Tree (MSM-T) [K. P. Bennett, \"Decision Tree\n",
      "Construction Via Linear Programming.\" Proceedings of the 4th\n",
      "Midwest Artificial Intelligence and Cognitive Science Society,\n",
      "pp. 97-101, 1992], a classification method which uses linear\n",
      "programming to construct a decision tree.  Relevant features\n",
      "were selected using an exhaustive search in the space of 1-4\n",
      "features and 1-3 separating planes.\n",
      "\n",
      "The actual linear program used to obtain the separating plane\n",
      "in the 3-dimensional space is that described in:\n",
      "[K. P. Bennett and O. L. Mangasarian: \"Robust Linear\n",
      "Programming Discrimination of Two Linearly Inseparable Sets\",\n",
      "Optimization Methods and Software 1, 1992, 23-34].\n",
      "\n",
      "This database is also available through the UW CS ftp server:\n",
      "\n",
      "ftp ftp.cs.wisc.edu\n",
      "cd math-prog/cpo-dataset/machine-learn/WDBC/\n",
      "\n",
      ".. topic:: References\n",
      "\n",
      "   - W.N. Street, W.H. Wolberg and O.L. Mangasarian. Nuclear feature extraction \n",
      "     for breast tumor diagnosis. IS&T/SPIE 1993 International Symposium on \n",
      "     Electronic Imaging: Science and Technology, volume 1905, pages 861-870,\n",
      "     San Jose, CA, 1993.\n",
      "   - O.L. Mangasarian, W.N. Street and W.H. Wolberg. Breast cancer diagnosis and \n",
      "     prognosis via linear programming. Operations Research, 43(4), pages 570-577, \n",
      "     July-August 1995.\n",
      "   - W.H. Wolberg, W.N. Street, and O.L. Mangasarian. Machine learning techniques\n",
      "     to diagnose breast cancer from fine-needle aspirates. Cancer Letters 77 (1994) \n",
      "     163-171.\n"
     ]
    }
   ],
   "source": [
    "# BreastCancer\n",
    "\n",
    "from    sklearn.datasets import load_breast_cancer\n",
    "import   pandas          as     pd\n",
    "cancer   = load_breast_cancer()\n",
    "print(cancer .DESCR)"
   ]
  },
  {
   "cell_type": "code",
   "execution_count": 39,
   "metadata": {},
   "outputs": [
    {
     "name": "stdout",
     "output_type": "stream",
     "text": [
      "<class 'pandas.core.frame.DataFrame'>\n",
      "RangeIndex: 569 entries, 0 to 568\n",
      "Data columns (total 30 columns):\n",
      "mean radius                569 non-null float64\n",
      "mean texture               569 non-null float64\n",
      "mean perimeter             569 non-null float64\n",
      "mean area                  569 non-null float64\n",
      "mean smoothness            569 non-null float64\n",
      "mean compactness           569 non-null float64\n",
      "mean concavity             569 non-null float64\n",
      "mean concave points        569 non-null float64\n",
      "mean symmetry              569 non-null float64\n",
      "mean fractal dimension     569 non-null float64\n",
      "radius error               569 non-null float64\n",
      "texture error              569 non-null float64\n",
      "perimeter error            569 non-null float64\n",
      "area error                 569 non-null float64\n",
      "smoothness error           569 non-null float64\n",
      "compactness error          569 non-null float64\n",
      "concavity error            569 non-null float64\n",
      "concave points error       569 non-null float64\n",
      "symmetry error             569 non-null float64\n",
      "fractal dimension error    569 non-null float64\n",
      "worst radius               569 non-null float64\n",
      "worst texture              569 non-null float64\n",
      "worst perimeter            569 non-null float64\n",
      "worst area                 569 non-null float64\n",
      "worst smoothness           569 non-null float64\n",
      "worst compactness          569 non-null float64\n",
      "worst concavity            569 non-null float64\n",
      "worst concave points       569 non-null float64\n",
      "worst symmetry             569 non-null float64\n",
      "worst fractal dimension    569 non-null float64\n",
      "dtypes: float64(30)\n",
      "memory usage: 133.4 KB\n",
      "None\n",
      "(569, 30)\n",
      "(569,)\n"
     ]
    }
   ],
   "source": [
    "X    = pd.DataFrame(cancer.data, columns=cancer.feature_names) # Predictor variables\n",
    "y    = cancer.target # Target or Response variable\n",
    "\n",
    "print(X.info())\n",
    "print(X.shape)\n",
    "print(y.shape)"
   ]
  },
  {
   "cell_type": "markdown",
   "metadata": {},
   "source": [
    "## END"
   ]
  }
 ],
 "metadata": {
  "kernelspec": {
   "display_name": "Python 3",
   "language": "python",
   "name": "python3"
  },
  "language_info": {
   "codemirror_mode": {
    "name": "ipython",
    "version": 3
   },
   "file_extension": ".py",
   "mimetype": "text/x-python",
   "name": "python",
   "nbconvert_exporter": "python",
   "pygments_lexer": "ipython3",
   "version": "3.7.1"
  }
 },
 "nbformat": 4,
 "nbformat_minor": 2
}
